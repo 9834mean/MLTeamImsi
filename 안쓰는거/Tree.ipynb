{
 "cells": [
  {
   "cell_type": "code",
   "execution_count": 33,
   "id": "50e70e02",
   "metadata": {},
   "outputs": [],
   "source": [
    "import pandas as pd\n",
    "from sklearn import tree\n",
    "\n",
    "df = pd.read_excel(\"data.xlsx\", header=1)\n",
    "df.head()\n",
    "\n",
    "X = df[[\"날짜\", \"제목\", \"유형\", \"주제분류\"]]\n",
    "X.head()\n",
    "\n",
    "X = pd.get_dummies(X, drop_first = True) # 모든 피쳐가 categorical 변수이므로 one-hot-encoding 시킴\n",
    "y = df[[\"가중치\"]]\n",
    "\n",
    "clf = tree.DecisionTreeRegressor()\n",
    "clf = clf.fit(X, y) # 회귀의사결정나무 적합"
   ]
  },
  {
   "cell_type": "code",
   "execution_count": null,
   "id": "f7a6e62c",
   "metadata": {},
   "outputs": [],
   "source": []
  }
 ],
 "metadata": {
  "kernelspec": {
   "display_name": "Python 3 (ipykernel)",
   "language": "python",
   "name": "python3"
  },
  "language_info": {
   "codemirror_mode": {
    "name": "ipython",
    "version": 3
   },
   "file_extension": ".py",
   "mimetype": "text/x-python",
   "name": "python",
   "nbconvert_exporter": "python",
   "pygments_lexer": "ipython3",
   "version": "3.7.9"
  }
 },
 "nbformat": 4,
 "nbformat_minor": 5
}
